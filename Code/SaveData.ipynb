{
  "nbformat": 4,
  "nbformat_minor": 0,
  "metadata": {
    "colab": {
      "name": "SaveData.ipynb",
      "provenance": [],
      "collapsed_sections": []
    },
    "kernelspec": {
      "name": "python3",
      "display_name": "Python 3"
    },
    "language_info": {
      "name": "python"
    }
  },
  "cells": [
    {
      "cell_type": "code",
      "metadata": {
        "id": "I7FO4Uog6OnO"
      },
      "source": [
        "#Import the essential libraries\n",
        "import numpy as np\n",
        "import pandas as pd\n",
        "import os\n",
        "import glob\n",
        "from PIL import Image"
      ],
      "execution_count": null,
      "outputs": []
    },
    {
      "cell_type": "code",
      "metadata": {
        "id": "CIYMqdFe6Oht"
      },
      "source": [
        "# Define the variable to store the data\n",
        "train_data_0 = []\n",
        "train_data_1 = []\n",
        "test_data_0 = []\n",
        "test_data_1 = []\n",
        "val_data_0 = []\n",
        "val_data_1 = []\n",
        "\n",
        "train_label_0 = []\n",
        "train_label_1 = []\n",
        "test_label_0 = []\n",
        "test_label_1 = []\n",
        "val_label_0 = []\n",
        "val_label_1 = []"
      ],
      "execution_count": null,
      "outputs": []
    },
    {
      "cell_type": "code",
      "metadata": {
        "id": "s--MfuHD6OeV"
      },
      "source": [
        "# Load the image data\n",
        "load_path_val_0 = '/content/drive/My Drive/chest_xray/val/NORMAL/'\n",
        "imagefile_val_0 = glob.glob(load_path_val_0 + '*.jpeg')\n",
        "load_path_val_1 = '/content/drive/My Drive/chest_xray/val/PNEUMONIA/'\n",
        "imagefile_val_1 = glob.glob(load_path_val_1 + '*.jpeg')\n",
        "load_path_train_0 = '/content/drive/My Drive/chest_xray/train/NORMAL/'\n",
        "imagefile_train_0 = glob.glob(load_path_train_0 + '*.jpeg')\n",
        "load_path_train_1 = '/content/drive/My Drive/chest_xray/train/PNEUMONIA/'\n",
        "imagefile_train_1 = glob.glob(load_path_train_1 + '*.jpeg')\n",
        "load_path_test_0 = '/content/drive/My Drive/chest_xray/test/NORMAL/'\n",
        "imagefile_test_0 = glob.glob(load_path_test_0 + '*.jpeg')\n",
        "load_path_test_1 = '/content/drive/My Drive/chest_xray/test/PNEUMONIA/'\n",
        "imagefile_test_1 = glob.glob(load_path_test_1 + '*.jpeg')\n",
        "# Resize them into the same size\n",
        "val_img_0 = [Image.open(img_path).resize((200, 200)).convert('L') for img_path in imagefile_val_0]\n",
        "val_img_1 = [Image.open(img_path).resize((200, 200)).convert('L') for img_path in imagefile_val_1]\n",
        "train_img_0 = [Image.open(img_path).resize((200, 200)).convert('L') for img_path in imagefile_train_0]\n",
        "train_img_1 = [Image.open(img_path).resize((200, 200)).convert('L') for img_path in imagefile_train_1]\n",
        "test_img_0 = [Image.open(img_path).resize((200, 200)).convert('L') for img_path in imagefile_test_0]\n",
        "test_img_1 = [Image.open(img_path).resize((200, 200)).convert('L') for img_path in imagefile_test_1]\n",
        "\n",
        "# Store the new image data into lists\n",
        "for img in val_img_0:\n",
        "  val_data_0.append(np.array(img))\n",
        "for img in val_img_1:\n",
        "  val_data_1.append(np.array(img))\n",
        "for img in train_img_0:\n",
        "  train_data_0.append(np.array(img))\n",
        "for img in train_img_1:\n",
        "  train_data_1.append(np.array(img))\n",
        "for img in test_img_0:\n",
        "  test_data_0.append(np.array(img))\n",
        "for img in test_img_1:\n",
        "  test_data_1.append(np.array(img))"
      ],
      "execution_count": null,
      "outputs": []
    },
    {
      "cell_type": "code",
      "metadata": {
        "id": "RfByCUUW6OQu"
      },
      "source": [
        "# Save the new resized data into google drive\n",
        "np.save('val_0.npy', np.array(val_data_0))\n",
        "!cp val_0.npy '/content/drive/My Drive/chest_xray/numpy/'\n",
        "np.save('val_1.npy', np.array(val_data_1))\n",
        "!cp val_1.npy '/content/drive/My Drive/chest_xray/numpy/'\n",
        "np.save('train_0.npy', np.array(train_data_0))\n",
        "!cp train_0.npy '/content/drive/My Drive/chest_xray/numpy/'\n",
        "np.save('train_1.npy', np.array(train_data_1))\n",
        "!cp train_1.npy '/content/drive/My Drive/chest_xray/numpy/'\n",
        "np.save('test_0.npy', np.array(test_data_0))\n",
        "!cp test_0.npy '/content/drive/My Drive/chest_xray/numpy/'\n",
        "np.save('test_1.npy', np.array(test_data_1))\n",
        "!cp test_1.npy '/content/drive/My Drive/chest_xray/numpy/'"
      ],
      "execution_count": null,
      "outputs": []
    }
  ]
}